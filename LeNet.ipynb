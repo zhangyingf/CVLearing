{
  "nbformat": 4,
  "nbformat_minor": 0,
  "metadata": {
    "colab": {
      "name": "LeNet.ipynb",
      "provenance": [],
      "authorship_tag": "ABX9TyN2xhIxJz21Lgh01cJIYu4y",
      "include_colab_link": true
    },
    "kernelspec": {
      "name": "python3",
      "display_name": "Python 3"
    },
    "language_info": {
      "name": "python"
    }
  },
  "cells": [
    {
      "cell_type": "markdown",
      "metadata": {
        "id": "view-in-github",
        "colab_type": "text"
      },
      "source": [
        "<a href=\"https://colab.research.google.com/github/zhangyingf/CVLearing/blob/main/LeNet.ipynb\" target=\"_parent\"><img src=\"https://colab.research.google.com/assets/colab-badge.svg\" alt=\"Open In Colab\"/></a>"
      ]
    },
    {
      "cell_type": "code",
      "metadata": {
        "id": "qLqX7o5fQ9FQ"
      },
      "source": [
        "import torch.nn as nn\n",
        "import torch.nn.functional as F\n",
        "\n",
        "class LeNet(nn.Module):\n",
        "    def __init__(self):\n",
        "        super(LeNet, self).__init__()\n",
        "        self.conv1 = nn.Conv2d(3, 16, 5)\n",
        "        self.pool1 = nn.MaxPool2d(2)\n",
        "        self.conv2 = nn.Conv2d(16, 32, 5)\n",
        "        self.pool2 = nn.MaxPool2d(2, 2)\n",
        "        self.fc1 = nn.Linear(32*5*5, 120)\n",
        "        self.fc2 = nn.Linear(120, 84)\n",
        "        self.fc3 = nn.Linear(84, 10)\n",
        "\n",
        "    def forward(self, x):\n",
        "        x = F.relu(self.conv1(x))    # input(3, 32, 32) output(16, 28, 28)\n",
        "        x = self.pool1(x)            # output(16, 14, 14)\n",
        "        x = F.relu(self.conv2(x))    # output(32, 10, 10)\n",
        "        x = self.pool2(x)            # output(32, 5, 5)\n",
        "        x = x.view(-1, 32*5*5)       # output(32*5*5)\n",
        "        x = F.relu(self.fc1(x))      # output(120)\n",
        "        x = F.relu(self.fc2(x))      # output(84)\n",
        "        x = self.fc3(x)              # output(10)\n",
        "        return x\n",
        "\n",
        "net = LeNet()"
      ],
      "execution_count": 3,
      "outputs": []
    },
    {
      "cell_type": "code",
      "metadata": {
        "colab": {
          "base_uri": "https://localhost:8080/"
        },
        "id": "ZMbzgdtYRLqS",
        "outputId": "bb85f80e-8fff-4288-b036-81b1a9fbf223"
      },
      "source": [
        "import torch\n",
        "import torchvision\n",
        "import torch.optim as optim\n",
        "import torchvision.transforms as transforms\n",
        "\n",
        "\n",
        "transform = transforms.Compose(\n",
        "        [transforms.ToTensor(),\n",
        "         transforms.Normalize((0.5, 0.5, 0.5), (0.5, 0.5, 0.5))])\n",
        "\n",
        "# 50000张训练图片\n",
        "# 第一次使用时要将download设置为True才会自动去下载数据集\n",
        "train_set = torchvision.datasets.CIFAR10(root='./data', train=True,download=True, transform=transform)\n",
        "\n",
        "train_loader = torch.utils.data.DataLoader(train_set, batch_size=36,shuffle=True, num_workers=0)\n",
        "\n",
        "# 10000张验证图片\n",
        "# 第一次使用时要将download设置为True才会自动去下载数据集\n",
        "val_set = torchvision.datasets.CIFAR10(root='./data', train=False,download=True, transform=transform)\n",
        "val_loader = torch.utils.data.DataLoader(val_set, batch_size=10000,shuffle=False, num_workers=0)\n",
        "val_data_iter = iter(val_loader)\n",
        "val_image, val_label = val_data_iter.next()\n",
        "classes = ('plane', 'car', 'bird', 'cat', 'deer', 'dog', 'frog', 'horse', 'ship', 'truck')\n",
        "\n",
        "\n",
        "loss_function = nn.CrossEntropyLoss()\n",
        "optimizer = optim.Adam(net.parameters(), lr=0.001)\n",
        "\n",
        "for epoch in range(5):  # loop over the dataset multiple times\n",
        "    running_loss = 0.0\n",
        "    for step, data in enumerate(train_loader, start=0):\n",
        "            # get the inputs; data is a list of [inputs, labels]\n",
        "        inputs, labels = data\n",
        "\n",
        "            # zero the parameter gradients梯度清零\n",
        "        optimizer.zero_grad()\n",
        "\n",
        "            # forward + backward + optimize\n",
        "        outputs = net(inputs)\n",
        "        loss = loss_function(outputs, labels)\n",
        "        loss.backward()\n",
        "        optimizer.step()\n",
        "\n",
        "            # print statistics\n",
        "        running_loss += loss.item()\n",
        "        if step % 500 == 499:  # print every 500 mini-batches\n",
        "            with torch.no_grad():\n",
        "                outputs = net(val_image)  # [batch, 10]\n",
        "                predict_y = torch.max(outputs, dim=1)[1]\n",
        "                accuracy = torch.eq(predict_y, val_label).sum().item() / val_label.size(0)\n",
        "\n",
        "                print('[%d, %5d] train_loss: %.3f  test_accuracy: %.3f' %\n",
        "                     (epoch + 1, step + 1, running_loss / 500, accuracy))\n",
        "                running_loss = 0.0\n",
        "print('Finished Training')\n",
        "\n",
        "save_path = './Lenet.pth'\n",
        "torch.save(net.state_dict(), save_path)"
      ],
      "execution_count": 4,
      "outputs": [
        {
          "output_type": "stream",
          "name": "stdout",
          "text": [
            "Files already downloaded and verified\n",
            "Files already downloaded and verified\n"
          ]
        },
        {
          "output_type": "stream",
          "name": "stderr",
          "text": [
            "/usr/local/lib/python3.7/dist-packages/torch/nn/functional.py:718: UserWarning: Named tensors and all their associated APIs are an experimental feature and subject to change. Please do not use them for anything important until they are released as stable. (Triggered internally at  /pytorch/c10/core/TensorImpl.h:1156.)\n",
            "  return torch.max_pool2d(input, kernel_size, stride, padding, dilation, ceil_mode)\n"
          ]
        },
        {
          "output_type": "stream",
          "name": "stdout",
          "text": [
            "[1,   500] train_loss: 1.712  test_accuracy: 0.472\n",
            "[1,  1000] train_loss: 1.421  test_accuracy: 0.517\n",
            "[2,   500] train_loss: 1.192  test_accuracy: 0.601\n",
            "[2,  1000] train_loss: 1.131  test_accuracy: 0.618\n",
            "[3,   500] train_loss: 0.986  test_accuracy: 0.620\n",
            "[3,  1000] train_loss: 0.976  test_accuracy: 0.655\n",
            "[4,   500] train_loss: 0.867  test_accuracy: 0.665\n",
            "[4,  1000] train_loss: 0.872  test_accuracy: 0.680\n",
            "[5,   500] train_loss: 0.779  test_accuracy: 0.668\n",
            "[5,  1000] train_loss: 0.793  test_accuracy: 0.687\n",
            "Finished Training\n"
          ]
        }
      ]
    }
  ]
}